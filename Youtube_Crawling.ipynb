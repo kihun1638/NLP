{
 "cells": [
  {
   "cell_type": "code",
   "execution_count": 9,
   "metadata": {
    "collapsed": true
   },
   "outputs": [
    {
     "name": "stdout",
     "output_type": "stream",
     "text": [
      "Requirement already satisfied: google-api-python-client in c:\\users\\user\\anaconda3\\envs\\kihun\\lib\\site-packages (1.10.0)\n",
      "Requirement already satisfied: google-api-core<2dev,>=1.18.0 in c:\\users\\user\\anaconda3\\envs\\kihun\\lib\\site-packages (from google-api-python-client) (1.22.0)\n",
      "Requirement already satisfied: google-auth>=1.16.0 in c:\\users\\user\\anaconda3\\envs\\kihun\\lib\\site-packages (from google-api-python-client) (1.20.0)\n",
      "Requirement already satisfied: uritemplate<4dev,>=3.0.0 in c:\\users\\user\\anaconda3\\envs\\kihun\\lib\\site-packages (from google-api-python-client) (3.0.1)\n",
      "Requirement already satisfied: httplib2<1dev,>=0.9.2 in c:\\users\\user\\anaconda3\\envs\\kihun\\lib\\site-packages (from google-api-python-client) (0.18.1)\n",
      "Requirement already satisfied: six<2dev,>=1.6.1 in c:\\users\\user\\anaconda3\\envs\\kihun\\lib\\site-packages (from google-api-python-client) (1.15.0)\n",
      "Requirement already satisfied: google-auth-httplib2>=0.0.3 in c:\\users\\user\\anaconda3\\envs\\kihun\\lib\\site-packages (from google-api-python-client) (0.0.4)\n",
      "Requirement already satisfied: pytz in c:\\users\\user\\anaconda3\\envs\\kihun\\lib\\site-packages (from google-api-core<2dev,>=1.18.0->google-api-python-client) (2020.1)\n",
      "Requirement already satisfied: requests<3.0.0dev,>=2.18.0 in c:\\users\\user\\anaconda3\\envs\\kihun\\lib\\site-packages (from google-api-core<2dev,>=1.18.0->google-api-python-client) (2.24.0)\n",
      "Requirement already satisfied: setuptools>=34.0.0 in c:\\users\\user\\anaconda3\\envs\\kihun\\lib\\site-packages (from google-api-core<2dev,>=1.18.0->google-api-python-client) (47.3.1.post20200622)\n",
      "Requirement already satisfied: googleapis-common-protos<2.0dev,>=1.6.0 in c:\\users\\user\\anaconda3\\envs\\kihun\\lib\\site-packages (from google-api-core<2dev,>=1.18.0->google-api-python-client) (1.52.0)\n",
      "Requirement already satisfied: protobuf>=3.12.0 in c:\\users\\user\\anaconda3\\envs\\kihun\\lib\\site-packages (from google-api-core<2dev,>=1.18.0->google-api-python-client) (3.12.3)\n",
      "Requirement already satisfied: rsa<5,>=3.1.4; python_version >= \"3.5\" in c:\\users\\user\\anaconda3\\envs\\kihun\\lib\\site-packages (from google-auth>=1.16.0->google-api-python-client) (4.0)\n",
      "Requirement already satisfied: cachetools<5.0,>=2.0.0 in c:\\users\\user\\anaconda3\\envs\\kihun\\lib\\site-packages (from google-auth>=1.16.0->google-api-python-client) (4.1.0)\n",
      "Requirement already satisfied: pyasn1-modules>=0.2.1 in c:\\users\\user\\anaconda3\\envs\\kihun\\lib\\site-packages (from google-auth>=1.16.0->google-api-python-client) (0.2.7)\n",
      "Requirement already satisfied: chardet<4,>=3.0.2 in c:\\users\\user\\anaconda3\\envs\\kihun\\lib\\site-packages (from requests<3.0.0dev,>=2.18.0->google-api-core<2dev,>=1.18.0->google-api-python-client) (3.0.4)\n",
      "Requirement already satisfied: idna<3,>=2.5 in c:\\users\\user\\anaconda3\\envs\\kihun\\lib\\site-packages (from requests<3.0.0dev,>=2.18.0->google-api-core<2dev,>=1.18.0->google-api-python-client) (2.10)\n",
      "Requirement already satisfied: urllib3!=1.25.0,!=1.25.1,<1.26,>=1.21.1 in c:\\users\\user\\anaconda3\\envs\\kihun\\lib\\site-packages (from requests<3.0.0dev,>=2.18.0->google-api-core<2dev,>=1.18.0->google-api-python-client) (1.25.9)\n",
      "Requirement already satisfied: certifi>=2017.4.17 in c:\\users\\user\\anaconda3\\envs\\kihun\\lib\\site-packages (from requests<3.0.0dev,>=2.18.0->google-api-core<2dev,>=1.18.0->google-api-python-client) (2020.6.20)\n",
      "Requirement already satisfied: pyasn1>=0.1.3 in c:\\users\\user\\anaconda3\\envs\\kihun\\lib\\site-packages (from rsa<5,>=3.1.4; python_version >= \"3.5\"->google-auth>=1.16.0->google-api-python-client) (0.4.8)\n",
      "Requirement already satisfied: google-auth in c:\\users\\user\\anaconda3\\envs\\kihun\\lib\\site-packages (1.20.0)\n",
      "Requirement already satisfied: google-auth-oauthlib in c:\\users\\user\\anaconda3\\envs\\kihun\\lib\\site-packages (0.4.1)\n",
      "Requirement already satisfied: google-auth-httplib2 in c:\\users\\user\\anaconda3\\envs\\kihun\\lib\\site-packages (0.0.4)\n",
      "Requirement already satisfied: pyasn1-modules>=0.2.1 in c:\\users\\user\\anaconda3\\envs\\kihun\\lib\\site-packages (from google-auth) (0.2.7)\n",
      "Requirement already satisfied: setuptools>=40.3.0 in c:\\users\\user\\anaconda3\\envs\\kihun\\lib\\site-packages (from google-auth) (47.3.1.post20200622)\n",
      "Requirement already satisfied: cachetools<5.0,>=2.0.0 in c:\\users\\user\\anaconda3\\envs\\kihun\\lib\\site-packages (from google-auth) (4.1.0)\n",
      "Requirement already satisfied: rsa<5,>=3.1.4; python_version >= \"3.5\" in c:\\users\\user\\anaconda3\\envs\\kihun\\lib\\site-packages (from google-auth) (4.0)\n",
      "Requirement already satisfied: six>=1.9.0 in c:\\users\\user\\anaconda3\\envs\\kihun\\lib\\site-packages (from google-auth) (1.15.0)\n",
      "Requirement already satisfied: requests-oauthlib>=0.7.0 in c:\\users\\user\\anaconda3\\envs\\kihun\\lib\\site-packages (from google-auth-oauthlib) (1.3.0)\n",
      "Requirement already satisfied: httplib2>=0.9.1 in c:\\users\\user\\anaconda3\\envs\\kihun\\lib\\site-packages (from google-auth-httplib2) (0.18.1)\n",
      "Requirement already satisfied: pyasn1<0.5.0,>=0.4.6 in c:\\users\\user\\anaconda3\\envs\\kihun\\lib\\site-packages (from pyasn1-modules>=0.2.1->google-auth) (0.4.8)\n",
      "Requirement already satisfied: oauthlib>=3.0.0 in c:\\users\\user\\anaconda3\\envs\\kihun\\lib\\site-packages (from requests-oauthlib>=0.7.0->google-auth-oauthlib) (3.1.0)\n",
      "Requirement already satisfied: requests>=2.0.0 in c:\\users\\user\\anaconda3\\envs\\kihun\\lib\\site-packages (from requests-oauthlib>=0.7.0->google-auth-oauthlib) (2.24.0)\n",
      "Requirement already satisfied: chardet<4,>=3.0.2 in c:\\users\\user\\anaconda3\\envs\\kihun\\lib\\site-packages (from requests>=2.0.0->requests-oauthlib>=0.7.0->google-auth-oauthlib) (3.0.4)\n",
      "Requirement already satisfied: certifi>=2017.4.17 in c:\\users\\user\\anaconda3\\envs\\kihun\\lib\\site-packages (from requests>=2.0.0->requests-oauthlib>=0.7.0->google-auth-oauthlib) (2020.6.20)\n",
      "Requirement already satisfied: urllib3!=1.25.0,!=1.25.1,<1.26,>=1.21.1 in c:\\users\\user\\anaconda3\\envs\\kihun\\lib\\site-packages (from requests>=2.0.0->requests-oauthlib>=0.7.0->google-auth-oauthlib) (1.25.9)\n",
      "Requirement already satisfied: idna<3,>=2.5 in c:\\users\\user\\anaconda3\\envs\\kihun\\lib\\site-packages (from requests>=2.0.0->requests-oauthlib>=0.7.0->google-auth-oauthlib) (2.10)\n"
     ]
    }
   ],
   "source": [
    "# !pip install google-api-python-client\n",
    "# !pip install google-auth google-auth-oauthlib google-auth-httplib2"
   ]
  },
  {
   "cell_type": "markdown",
   "metadata": {},
   "source": [
    "# 유튜브 API를 이용한 크롤링 코드"
   ]
  },
  {
   "cell_type": "markdown",
   "metadata": {},
   "source": [
    "## 소스코드"
   ]
  },
  {
   "cell_type": "code",
   "execution_count": 12,
   "metadata": {},
   "outputs": [],
   "source": [
    "import csv\n",
    "import os\n",
    " \n",
    "import google.oauth2.credentials\n",
    " \n",
    "from googleapiclient.discovery import build\n",
    "from googleapiclient.errors import HttpError\n",
    "from google_auth_oauthlib.flow import InstalledAppFlow\n",
    " \n",
    "# The CLIENT_SECRETS_FILE variable specifies the name of a file that contains\n",
    "# the OAuth 2.0 information for this application, including its client_id and\n",
    "# client_secret.\n",
    "CLIENT_SECRETS_FILE = \"client_secret.json\"\n",
    " \n",
    "# This OAuth 2.0 access scope allows for full read/write access to the\n",
    "# authenticated user's account and requires requests to use an SSL connection.\n",
    "SCOPES = ['https://www.googleapis.com/auth/youtube.force-ssl']\n",
    "API_SERVICE_NAME = 'youtube'\n",
    "API_VERSION = 'v3'\n",
    " \n",
    " \n",
    "def get_authenticated_service():\n",
    "    credentials = None\n",
    "    if os.path.exists('token.pickle'):\n",
    "        with open('token.pickle', 'rb') as token:\n",
    "            credentials = pickle.load(token)\n",
    "    #  Check if the credentials are invalid or do not exist\n",
    "    if not credentials or not credentials.valid:\n",
    "        # Check if the credentials have expired\n",
    "        if credentials and credentials.expired and credentials.refresh_token:\n",
    "            credentials.refresh(Request())\n",
    "        else:\n",
    "            flow = InstalledAppFlow.from_client_secrets_file(\n",
    "                CLIENT_SECRETS_FILE, SCOPES)\n",
    "            credentials = flow.run_console()\n",
    " \n",
    "        # Save the credentials for the next run\n",
    "        with open('token.pickle', 'wb') as token:\n",
    "            pickle.dump(credentials, token)\n",
    " \n",
    "    return build(API_SERVICE_NAME, API_VERSION, credentials = credentials)\n",
    " \n",
    " \n",
    "def get_video_comments(service, **kwargs):\n",
    "    comments = []\n",
    "    results = service.commentThreads().list(**kwargs).execute()\n",
    " \n",
    "    while results:\n",
    "        for item in results['items']:\n",
    "            comment = item['snippet']['topLevelComment']['snippet']['textDisplay']\n",
    "            comments.append(comment)\n",
    " \n",
    "        # Check if another page exists\n",
    "        if 'nextPageToken' in results:\n",
    "            kwargs['pageToken'] = results['nextPageToken']\n",
    "            results = service.commentThreads().list(**kwargs).execute()\n",
    "        else:\n",
    "            break\n",
    " \n",
    "    return comments\n",
    " \n",
    " \n",
    "def write_to_csv(comments):\n",
    "    with open('comments.csv', 'w',-1,'utf-8') as comments_file:\n",
    "        comments_writer = csv.writer(comments_file, delimiter=',', quotechar='\"', quoting=csv.QUOTE_MINIMAL)\n",
    "        comments_writer.writerow(['Video ID', 'Title', 'Comment'])\n",
    "        for row in comments:\n",
    "            # convert the tuple to a list and write to the output file\n",
    "            comments_writer.writerow(list(row))\n",
    " \n",
    " \n",
    "def get_videos(service, **kwargs):\n",
    "    final_results = []\n",
    "    results = service.search().list(**kwargs).execute()\n",
    " \n",
    "    i = 0\n",
    "    max_pages = 3\n",
    "    while results and i < max_pages:\n",
    "        final_results.extend(results['items'])\n",
    " \n",
    "        # Check if another page exists\n",
    "        if 'nextPageToken' in results:\n",
    "            kwargs['pageToken'] = results['nextPageToken']\n",
    "            results = service.search().list(**kwargs).execute()\n",
    "            i += 1\n",
    "        else:\n",
    "            break\n",
    " \n",
    "    return final_results\n",
    " \n",
    " \n",
    "def search_videos_by_keyword(service, **kwargs):\n",
    "    results = get_videos(service, **kwargs)\n",
    "    final_result = []\n",
    "    for item in results:\n",
    "        title = item['snippet']['title']\n",
    "        video_id = item['id']['videoId']\n",
    "        comments = get_video_comments(service, part='snippet', videoId=video_id, textFormat='plainText')\n",
    "        # make a tuple consisting of the video id, title, comment and add the result to \n",
    "        # the final list\n",
    "        final_result.extend([(video_id, title, comment) for comment in comments]) \n",
    " \n",
    "    write_to_csv(final_result)"
   ]
  },
  {
   "cell_type": "markdown",
   "metadata": {},
   "source": [
    "## 실행단"
   ]
  },
  {
   "cell_type": "code",
   "execution_count": 14,
   "metadata": {},
   "outputs": [
    {
     "name": "stdout",
     "output_type": "stream",
     "text": [
      "Enter a keyword: 집값\n"
     ]
    }
   ],
   "source": [
    "if __name__ == '__main__':\n",
    "# When running locally, disable OAuthlib's HTTPs verification. When\n",
    "# running in production *do not* leave this option enabled.\n",
    "    os.environ['OAUTHLIB_INSECURE_TRANSPORT'] = '1'\n",
    "    service = get_authenticated_service()\n",
    "    keyword = input('Enter a keyword: ')\n",
    "    search_videos_by_keyword(service, q=keyword, part='id,snippet', eventType='completed', type='video')"
   ]
  },
  {
   "cell_type": "markdown",
   "metadata": {},
   "source": [
    "# 시각화"
   ]
  },
  {
   "cell_type": "code",
   "execution_count": 1,
   "metadata": {},
   "outputs": [
    {
     "name": "stdout",
     "output_type": "stream",
     "text": [
      "pygame 1.9.6\n",
      "Hello from the pygame community. https://www.pygame.org/contribute.html\n"
     ]
    }
   ],
   "source": [
    "import pandas as pd\n",
    "from konlpy.tag import Mecab\n",
    "from collections import Counter\n",
    "from wordcloud import WordCloud\n",
    "import matplotlib.pyplot as plt\n",
    "import codecs\n",
    "import pytagcloud\n",
    "import webbrowser\n",
    "import matplotlib\n",
    "import matplotlib.pyplot as plt\n",
    "\n",
    "from matplotlib import font_manager, rc\n",
    "from bs4 import BeautifulSoup\n",
    "from konlpy.tag import Twitter"
   ]
  },
  {
   "cell_type": "code",
   "execution_count": 24,
   "metadata": {},
   "outputs": [
    {
     "data": {
      "text/plain": [
       "0       충청도 세종땅을 뭣같은 민주당놈들이 다 사재기해놓고 수도로 만들려고 하니간 땅값오르...\n",
       "1                진짜 악의적인 기사구나 사람들이 그러면 선동된다고 생각하는 어리석은 기사\n",
       "2                                         투기정부세력이 세종시로갔구만\n",
       "3                    이해찬이는  세종시  집 팔고  땅 팔아서  세금 좀 내고  사소\n",
       "4                          이해찬이는  세종시  집 파소   좀 부끄러운 줄 아소\n",
       "                              ...                        \n",
       "3972                                         그 기사 정확한 출처?\n",
       "3973    재앙이 머리 돌아가는게 저 수준이라면 빨리 집을 사라는 신호. 집값 더 오르면 가짜...\n",
       "3974                                          문병신 말이야 벌구야\n",
       "3975    아포유님 반갑습니다.\\r\\n요즘 집값이 오른다고 하는데\\r\\n다행입니다.\\r\\n통계...\n",
       "3976                 문산당 또 거짓말에 선전선동!\\r\\n할줄 아는게 저것밖에 없으니~\n",
       "Name: Comment, Length: 3977, dtype: object"
      ]
     },
     "execution_count": 24,
     "metadata": {},
     "output_type": "execute_result"
    }
   ],
   "source": [
    "df = pd.read_csv('comments.csv', encoding='utf-8')\n",
    "comments = df['Comment']\n",
    "comments"
   ]
  },
  {
   "cell_type": "markdown",
   "metadata": {},
   "source": [
    "## 불용어 제거"
   ]
  },
  {
   "cell_type": "code",
   "execution_count": 5,
   "metadata": {},
   "outputs": [
    {
     "data": {
      "text/plain": [
       "['은', '이', '것', '등', '더', '를', '좀', '즉', '인', '옹']"
      ]
     },
     "execution_count": 5,
     "metadata": {},
     "output_type": "execute_result"
    }
   ],
   "source": [
    "tagger = Mecab(dicpath=\"C:\\\\mecab\\\\mecab-ko-dic\")\n",
    "\n",
    "stop_words = \"은 이 것 등 더 를 좀 즉 인 옹 때 만 원 이때 개 일 기 시 럭 갤 성 삼 스 폰 트 드 기 이 리 폴 사 전 마 자 플 블 가 중 북 수 팩 년 월 저 탭\"\n",
    "stop_words = stop_words.split(' ')\n",
    "stop_words[0:10]"
   ]
  },
  {
   "cell_type": "code",
   "execution_count": 6,
   "metadata": {},
   "outputs": [
    {
     "data": {
      "text/plain": [
       "['충청도', '세종', '땅', '뭣', '민주당', '놈', '사재기', '수도', '땅값', '지네']"
      ]
     },
     "execution_count": 6,
     "metadata": {},
     "output_type": "execute_result"
    }
   ],
   "source": [
    "nouns = []\n",
    "for post in comments:\n",
    "    for noun in tagger.nouns(post):\n",
    "        if noun not in stop_words:\n",
    "            nouns.append(noun)\n",
    "\n",
    "nouns[0:10]"
   ]
  },
  {
   "cell_type": "markdown",
   "metadata": {},
   "source": [
    "## 워드 클라우드"
   ]
  },
  {
   "cell_type": "code",
   "execution_count": 7,
   "metadata": {},
   "outputs": [
    {
     "name": "stdout",
     "output_type": "stream",
     "text": [
      "{'부동산': 705, '거': 569, '국민': 509, '미': 473, '집': 456, '집값': 440, '통': 434, '정부': 416, '주호영': 407, '사람': 347, '법': 331, '서민': 307, '국회의원': 293, '게': 271, '주택': 271, '말': 270, '돈': 259, '정책': 251, '스트레이트': 241, '놈': 239}\n"
     ]
    }
   ],
   "source": [
    "num_top_nouns = 20\n",
    "nouns_counter = Counter(nouns)\n",
    "top_nouns = dict(nouns_counter.most_common(num_top_nouns))\n",
    "print(top_nouns)"
   ]
  },
  {
   "cell_type": "code",
   "execution_count": 8,
   "metadata": {},
   "outputs": [
    {
     "data": {
      "text/plain": [
       "<wordcloud.wordcloud.WordCloud at 0x28a95cfd088>"
      ]
     },
     "execution_count": 8,
     "metadata": {},
     "output_type": "execute_result"
    }
   ],
   "source": [
    "wc = WordCloud(background_color=\"white\", font_path='./font/malgun.ttf')\n",
    "wc.generate_from_frequencies(top_nouns)"
   ]
  },
  {
   "cell_type": "code",
   "execution_count": 9,
   "metadata": {},
   "outputs": [
    {
     "data": {
      "text/plain": [
       "<matplotlib.image.AxesImage at 0x28a95caa248>"
      ]
     },
     "execution_count": 9,
     "metadata": {},
     "output_type": "execute_result"
    },
    {
     "data": {
      "image/png": "[encoded data removed]",
      "text/plain": [
       "<Figure size 720x720 with 1 Axes>"
      ]
     },
     "metadata": {
      "needs_background": "light"
     },
     "output_type": "display_data"
    }
   ],
   "source": [
    "figure = plt.figure()\n",
    "figure.set_size_inches(10, 10)\n",
    "ax = figure.add_subplot(1, 1, 1)\n",
    "ax.axis(\"off\")\n",
    "ax.imshow(wc)"
   ]
  },
  {
   "cell_type": "markdown",
   "metadata": {},
   "source": [
    "### PNG로 저장"
   ]
  },
  {
   "cell_type": "code",
   "execution_count": null,
   "metadata": {},
   "outputs": [],
   "source": [
    "def saveWordCloud(wordInfo):\n",
    "    taglist = pytagcloud.make_tags(dict(wordInfo).items(), maxsize=80)\n",
    "    print(type(taglist))  # <class 'list'>\n",
    "    filename = 'wordcloud.png'\n",
    "\n",
    "    pytagcloud.create_tag_image(taglist, filename, \\\n",
    "                                size=(640, 480), fontname='korean', rectangular=False)\n",
    "    webbrowser.open(filename)"
   ]
  },
  {
   "cell_type": "code",
   "execution_count": null,
   "metadata": {},
   "outputs": [],
   "source": [
    "saveWordCloud(wordInfo)"
   ]
  },
  {
   "cell_type": "markdown",
   "metadata": {},
   "source": [
    "## BarPlot"
   ]
  },
  {
   "cell_type": "code",
   "execution_count": 19,
   "metadata": {},
   "outputs": [],
   "source": [
    "twitter=Twitter()\n",
    "word_dic = {}\n",
    "\n",
    "for line in comments:\n",
    "    malist = twitter.pos(line)\n",
    "    for word in malist:\n",
    "        if word[1] == \"Noun\":  # 명사 확인하기 --- (※3)\n",
    "            if not (word[0] in word_dic):\n",
    "                word_dic[word[0]] = 0\n",
    "            word_dic[word[0]] += 1  # 카운트하기"
   ]
  },
  {
   "cell_type": "code",
   "execution_count": 21,
   "metadata": {},
   "outputs": [
    {
     "name": "stdout",
     "output_type": "stream",
     "text": [
      "부동산(703) 국민(496) 것(476) 통(468) 정부(444) 집값(435) 주호영(407) 이(363) 집(352) 사람(340) 법(326) 놈(306) 투기(289) 국회의원(289) 서민(288) 주택(279) 진짜(264) 정책(247) 말(245) 돈(243) 스트레이트(242) 개(234) 그(232) 정말(228) 방송(210) 세금(208) 때(202) 정권(199) 의원(197) 위(193) 더(192) 언론(190) 인간(189) 지금(186) 아파트(180) 생각(178) 민주당(176) 나라(173) 쓰레기(172) 폭등(170) 저(167) 왜(165) 거(161) 강남(155) 니(148) 문재인(140) 채(133) 문제(133) 뭐(130) 박덕흠(130) 좀(124) 국회(124) 수(118) 유(118) 뻔(117) 통과(113) 아포(110) 위해(106) 응원(104) 미래(104) 임대(103) 탓(103) 걸(103) 서울(101) 또(101) 통합(101) 자기(100) 우리(99) 제(99) 요(98) 기자(98) 대통령(98) 저런(98) 똥(96) 보고(96) 자(96) 욕(94) 제발(93) 이제(93) 통닭(92) 하나(91) 이익(91) 이전(90) 앞(87) 입(87) 새끼(86) 건설(86) 분양(86) 해(86) 재건축(86) 모두(83) 알(82) 국(81) 내(81) 박근혜(81) 좌파(79) 때문(78) 공급(78) 대한민국(77) 정치(76) 살(76) 역시(76) 일(74) 세상(74) 보도(74) 안(73) 가지(71) 계속(71) 규제(70) 나(70) 도둑(70) 폐지(69) 장관(69) 수도(67) 이유(66) 국토(66) 못(65) 가격(64) 등(64) 배(63) 기(62) 건(61) 이상(61) 자신(61) 게(60) 환수(60) 재산(60) 지지(60) 전세(59) 정도(59) 상승(59) 그냥(59) 누가(59) 국가(59) 시장(58) 일본(58) 사업자(58) 답(57) 값(57) 전(56) 부자(56) 지역(55) 경제(55) 기사(54) 다시(54) 분(53) 소리(52) 항상(52) 너(51) 이명박(51) 기득권(51) 새누리당(51) 도(50) 제대로(50) 모든(49) 지방(49) 교수(49) 얘기(48) 영상(48) 한국(48) 현(47) 사(47) 김현미(47) 보수(47) 사퇴(47) 최고(46) 수도권(46) 이번(46) 취재(46) 양심(46) 속(45) 중(45) 뉴스(44) 상한(44) 화이팅(44) 대출(44) 대한(44) 지역구(44) 책임(43) 수준(43) 현재(43) 노무현(43) 꼭(43) 똥값(43) 말씀(42) 사회(42) 명(42) 찬성(42) 뒤(42) 전부(42) 대표(42) 땅(41) 투자(41) 불로소득(41) 보유(41) 누구(41) 개돼지(41) 범(41) 척(41) 세력(40) 무슨(40) 혜택(40) 다음(40) 보(39) 안정(39) 다른(39) 투표(39) 야당(39) 준(39) 하라(39) 본인(38) 논리(38) 무(38) 바로(38) 상황(38) 이야기(38) 법안(37) 임(37) 우리나라(37) 사실(37) 진실(37) 비판(37) 함(37) 이지선(37) 여기(36) 곳(36) 대해(36) 이용(36) 잘못(36) 당(36) 가증(36) 선동(35) 표(35) 미국(35) 내용(35) 현실(35) 여당(35) 감사(35) 대책(35) 광고(35) 왜구(35) 눈(34) 당신(34) 남(34) 바보(34) 정신(34) 당시(34) 힘(34) 사기꾼(33) 얼굴(33) 이건(33) 권력(33) 꼴(33) 거품(33) 완전(33) 자식(33) 처(33) 누리(33) 폭탄(32) 이해(32) 공무원(32) 도대체(32) 년(32) 한번(32) 관련(32) 비난(32) 줄(31) 정보(31) 시작(31) 가장(31) 폭락(31) 오늘(31) 하자(31) 집단(31) 세종시(30) 월세(30) 하락(30) 라이(30) 어찌(30) 뿐(30) 정치인(30) 이후(30) 원인(30) 수고(30) 돼지(30) 애(30) 대구(30) 우파(29) 지랄(29) 그게(29) 반대(29) 아주(29) 국토부(29) 감(29) 결과(29) 걱정(29) 질(28) 끝(28) 기준(28) 집사(28) 강의(28) 데(28) 사업(28) 얼마나(28) 꾼(28) 토착(28) 해결(27) 도세(27) 짓(27) 거지(27) 유세(27) 은(27) 적폐(27) 재개발(27) 절대(27) 후(27) 가치(27) 발언(27) 고양이(27) 기레기(27) 고위(27) 진보(27) 하니(26) 거짓말(26) 번(26) 그때(26) 로(26) 시민(26) 이득(26) 소유(26) 고생(26) 새누리(26) 집권(25) 언제(25) 청와대(25) 시간(25) 혁명(25) 평생(25) 법인(25) 물(25) 무조건(24) 코로나(24) 소득(24) 조사(24) 선(24) 를(24) 어디(24) 대가리(24) 열(24) 재앙(23) 구(23) 너희(23) 자유(23) 유지(23) 적(23) 거주(23) 부분(23) 그것(23) 선거(23) 달(23) 고(23) 해도(23) 네(23) 박(23) 및(23) 개인(23) 아치(23) 입법(23) 철면피(23) 공직자(23) 호(23) 똥줄(23) 병신(22) 기업(22) 전문가(22) 실(22) 팩트(22) 댓글(22) 주(22) 대상(22) 남탓(22) 개새끼(22) 프로(22) 무엇(22) 죄(22) 개혁(22) 자격(22) 수가(22) 거구(22) 공개(21) 이재명(21) 재벌(21) 로남불(21) 난(21) 라면(21) 기억(21) 단지(21) 관심(21) 마련(21) 석(21) 공(21) 특혜(21) 어이(21) 관료(21) 키(21) 검찰(21) 사고(20) 주장(20) 악마(20) 비(20) 시(20) 날(20) 사회주의(20) 거기(20) 설명(20) 자리(20) 행동(20) 반포(20) 원내대표(20) 핑크(20) 천재(20) 정리(19) 손(19) 늘(19) 초과(19) 거래(19) 실패(19) 대부분(19) 머리(19) 듯(19) 자체(19) 장난(19) 조장(19) 생선(19) 노력(19) 널리(19) 싹(19) 위선(19) 팔(19) 정당(19) 반성(19) 서민이(19) 세종(18) 재(18) 좌빨(18) 편(18) 인정(18) 업자(18) 세차(18) 종부세(18) 효과(18) 임대주택(18) 주변(18) 도움(18) 또한(18) 오른(18) 선택(18) 인구(18) 취급(18) 부패(18) 오히려(18) 자본주의(18) 층(18) 조중동(18) 꿈(18) 공부(18) 화가(18) 주둥이(18) 끼리(17) 일부(17) 뭘(17) 조금(17) 머(17) 의(17) 반드시(17) 팀(17) 정의(17) 익(17) 만(17) 노예(17) 개판(17) 인생(17) 아마(17) 북한(17) 목적(17) 시대(17) 잡기(17) 새(17) 악법(17) 마찬가지(17) 거리(17) 빚(17) 진정(17) 합의(17) 친(17) 프로그램(17) 등록(17) 피(17) 덕분(17) 팔고(16) "
     ]
    }
   ],
   "source": [
    "keys = sorted(word_dic.items(), key=lambda x: x[1], reverse=True)\n",
    "\n",
    "wordInfo = dict()\n",
    "for word, count in keys[:500]:\n",
    "    print(\"{0}({1}) \".format(word, count), end=\"\")\n",
    "    if (count > 60) and len(word) >= 2:\n",
    "        wordInfo[word] = count"
   ]
  },
  {
   "cell_type": "code",
   "execution_count": 22,
   "metadata": {},
   "outputs": [],
   "source": [
    "def showGraph(wordInfo):\n",
    "    font_location = 'c:/Windows/fonts/malgun.ttf'\n",
    "    font_name = font_manager.FontProperties(fname=font_location).get_name()\n",
    "    matplotlib.rc('font', family=font_name)\n",
    "\n",
    "    plt.xlabel('주요 단어')\n",
    "    plt.ylabel('빈도 수')\n",
    "    plt.grid(True)\n",
    "\n",
    "    barcount = 10  # 10개만 그리겠다.\n",
    "\n",
    "    Sorted_Dict_Values = sorted(wordInfo.values(), reverse=True)\n",
    "    print(Sorted_Dict_Values)\n",
    "    print('dd')\n",
    "    plt.bar(range(barcount), Sorted_Dict_Values[0:barcount], align='center')\n",
    "\n",
    "    Sorted_Dict_Keys = sorted(wordInfo, key=wordInfo.get, reverse=True)\n",
    "    print(Sorted_Dict_Keys)\n",
    "    plt.xticks(range(barcount), list(Sorted_Dict_Keys)[0:barcount], rotation='70')\n",
    "\n",
    "    plt.show()"
   ]
  },
  {
   "cell_type": "code",
   "execution_count": 23,
   "metadata": {},
   "outputs": [
    {
     "name": "stdout",
     "output_type": "stream",
     "text": [
      "<class 'list'>\n",
      "[703, 496, 444, 435, 407, 340, 289, 289, 288, 279, 264, 247, 242, 228, 210, 208, 199, 197, 190, 189, 186, 180, 178, 176, 173, 172, 170, 155, 140, 133, 130, 124, 113, 110, 106, 104, 104, 103, 101, 101, 100, 99, 98, 98, 98, 96, 93, 93, 92, 91, 91, 90, 86, 86, 86, 86, 83, 81, 79, 78, 78, 77, 76, 76, 74, 74, 71, 71, 70, 70, 69, 69, 67, 66, 66, 64, 61, 61]\n",
      "dd\n",
      "['부동산', '국민', '정부', '집값', '주호영', '사람', '투기', '국회의원', '서민', '주택', '진짜', '정책', '스트레이트', '정말', '방송', '세금', '정권', '의원', '언론', '인간', '지금', '아파트', '생각', '민주당', '나라', '쓰레기', '폭등', '강남', '문재인', '문제', '박덕흠', '국회', '통과', '아포', '위해', '응원', '미래', '임대', '서울', '통합', '자기', '우리', '기자', '대통령', '저런', '보고', '제발', '이제', '통닭', '하나', '이익', '이전', '새끼', '건설', '분양', '재건축', '모두', '박근혜', '좌파', '때문', '공급', '대한민국', '정치', '역시', '세상', '보도', '가지', '계속', '규제', '도둑', '폐지', '장관', '수도', '이유', '국토', '가격', '이상', '자신']\n"
     ]
    },
    {
     "data": {
      "image/png": "[encoded data removed]",
      "text/plain": [
       "<Figure size 432x288 with 1 Axes>"
      ]
     },
     "metadata": {
      "needs_background": "light"
     },
     "output_type": "display_data"
    }
   ],
   "source": [
    "showGraph(wordInfo)"
   ]
  },
  {
   "cell_type": "code",
   "execution_count": null,
   "metadata": {},
   "outputs": [],
   "source": []
  }
 ],
 "metadata": {
  "kernelspec": {
   "display_name": "Python 3",
   "language": "python",
   "name": "python3"
  },
  "language_info": {
   "codemirror_mode": {
    "name": "ipython",
    "version": 3
   },
   "file_extension": ".py",
   "mimetype": "text/x-python",
   "name": "python",
   "nbconvert_exporter": "python",
   "pygments_lexer": "ipython3",
   "version": "3.7.7"
  },
  "toc": {
   "base_numbering": 1,
   "nav_menu": {},
   "number_sections": true,
   "sideBar": true,
   "skip_h1_title": false,
   "title_cell": "Table of Contents",
   "title_sidebar": "Contents",
   "toc_cell": false,
   "toc_position": {},
   "toc_section_display": true,
   "toc_window_display": false
  }
 },
 "nbformat": 4,
 "nbformat_minor": 4
}
